{
 "cells": [
  {
   "cell_type": "code",
   "execution_count": 1,
   "metadata": {},
   "outputs": [
    {
     "data": {
      "text/plain": [
       "28"
      ]
     },
     "execution_count": 1,
     "metadata": {},
     "output_type": "execute_result"
    }
   ],
   "source": [
    "# 1.1 my_reduce user defined function \n",
    "\n",
    "def my_reduce(func , lst) :  #user defined function name and passing postional arguments \n",
    "    z = func(lst[0] , lst[1]) # initializing \n",
    "    \n",
    "    for i in range(2,len(lst)) : \n",
    "        #print(lst[i])\n",
    "        Z = func(z ,lst[i] )  # using 1st positional argumemt i.e function \n",
    "        z = Z                 # updating intial value at every iteration \n",
    "        \n",
    "    return Z  \n",
    "\n",
    "\n",
    "\n",
    "\n",
    "my_reduce(lambda x,y:x+y , [1,2,3,4,5,6,7])"
   ]
  },
  {
   "cell_type": "code",
   "execution_count": 2,
   "metadata": {},
   "outputs": [
    {
     "data": {
      "text/plain": [
       "[1, 3, 5, 7, 9, 11, 13, 15, 17, 19]"
      ]
     },
     "execution_count": 2,
     "metadata": {},
     "output_type": "execute_result"
    }
   ],
   "source": [
    "# 1.2 my_filter user defined function \n",
    "\n",
    "\n",
    "def my_filter(func , seq):    # user defined function name and passing positional arguments \n",
    "    flt_lst = []              # initializing empty list \n",
    "    for i in seq :\n",
    "        if func(i) is True :  \n",
    "            flt_lst.append(i) \n",
    "    \n",
    "    return flt_lst\n",
    "\n",
    "\n",
    "\n",
    "my_filter(lambda x:x%2 != 0 , list(range(20)))"
   ]
  },
  {
   "cell_type": "code",
   "execution_count": 3,
   "metadata": {},
   "outputs": [
    {
     "name": "stdout",
     "output_type": "stream",
     "text": [
      "Output for a ['x', 'xx', 'xxx', 'xxxx', 'y', 'yy', 'yyy', 'yyyy', 'z', 'zz', 'zzz', 'zzzz']\n",
      "Output for b ['x', 'y', 'z', 'xx', 'yy', 'zz', 'xxx', 'yyy', 'zzz', 'xxxx', 'yyyy', 'zzzz']\n"
     ]
    }
   ],
   "source": [
    "# 2(a) \n",
    "\n",
    "l_a = [i*j for j in ['x','y','z'] for i in range(1,5)]\n",
    "print('Output for a',l_a)  \n",
    "\n",
    "# 2(b)\n",
    "\n",
    "l_b = [i*j for j in range(1,5) for i in ['x','y','z']]\n",
    "print('Output for b',l_b)\n",
    "\n",
    "\n"
   ]
  },
  {
   "cell_type": "code",
   "execution_count": 4,
   "metadata": {},
   "outputs": [
    {
     "name": "stdout",
     "output_type": "stream",
     "text": [
      "Ouput for C 1 [[2], [3], [4], [3], [4], [5], [4], [5], [6]]\n",
      "Ouput for C 2 [[[2], [3], [4]], [[3], [4], [5]], [[4], [5], [6]]]\n"
     ]
    }
   ],
   "source": [
    "# 2(c) \n",
    "\n",
    "# case 1 \n",
    "\n",
    "l = [[i] for i in list(range(2,7))]           # list comperhension\n",
    "l_c =[]\n",
    "\n",
    "for i in range(0,3):\n",
    "    a = l[i:i+3]\n",
    "    l_c.extend(a)\n",
    "    \n",
    "print('Ouput for C 1' ,l_c)    \n",
    "\n",
    "\n",
    "# case 2 \n",
    "\n",
    "l_c2 = [(l[i:i+3]) for i in range(0,3)]\n",
    "print('Ouput for C 2' ,l_c2)"
   ]
  },
  {
   "cell_type": "code",
   "execution_count": 5,
   "metadata": {},
   "outputs": [
    {
     "name": "stdout",
     "output_type": "stream",
     "text": [
      "Output for d [[2, 3, 4, 5], [3, 4, 5, 6], [4, 5, 6, 7], [5, 6, 7, 8]]\n"
     ]
    }
   ],
   "source": [
    "# 2(d)\n",
    "\n",
    "l = list(range(2,9))                            # creating list \n",
    "\n",
    "l_d = [l[i:i+4] for i in range(0,4) ]           # Using list comprehensions \n",
    "print('Output for d',l_d)"
   ]
  },
  {
   "cell_type": "code",
   "execution_count": 6,
   "metadata": {},
   "outputs": [
    {
     "data": {
      "text/plain": [
       "[(1, 1), (1, 2), (1, 3), (2, 2), (2, 3), (3, 3), (2, 1), (3, 1), (3, 2)]"
      ]
     },
     "execution_count": 6,
     "metadata": {},
     "output_type": "execute_result"
    }
   ],
   "source": [
    "# 2(e)\n",
    "\n",
    "import itertools as it \n",
    "\n",
    "a=list(it.combinations_with_replacement([1,2,3],2))\n",
    "b= list(it.permutations([1,2,3],2))\n",
    "\n",
    "def remove_d(item):\n",
    "    non_d = []\n",
    "    for i in item :\n",
    "        if i not in non_d :\n",
    "            non_d.append(i)\n",
    "    \n",
    "    \n",
    "    return non_d \n",
    "\n",
    "\n",
    "remove_d(a+b)"
   ]
  }
 ],
 "metadata": {
  "kernelspec": {
   "display_name": "Python 3",
   "language": "python",
   "name": "python3"
  },
  "language_info": {
   "codemirror_mode": {
    "name": "ipython",
    "version": 3
   },
   "file_extension": ".py",
   "mimetype": "text/x-python",
   "name": "python",
   "nbconvert_exporter": "python",
   "pygments_lexer": "ipython3",
   "version": "3.8.3"
  }
 },
 "nbformat": 4,
 "nbformat_minor": 4
}
