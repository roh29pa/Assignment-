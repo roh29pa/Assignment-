{
 "cells": [
  {
   "cell_type": "code",
   "execution_count": 1,
   "metadata": {},
   "outputs": [
    {
     "name": "stdout",
     "output_type": "stream",
     "text": [
      "Area of triangle is  489.89794855663564\n"
     ]
    }
   ],
   "source": [
    "# 1.1 \n",
    "\n",
    "class Length():                                                       # Defining class as Length,as to take sides of triangle.\n",
    "    def __init__(self, length_a , length_b , length_c , semiperimeter_s):\n",
    "        self.sideA = length_a\n",
    "        self.sideB = length_b\n",
    "        self.sideC = length_c\n",
    "        self.semipS = semiperimeter_s \n",
    "        \n",
    "        \n",
    "class Area(Length):                                  # defining subclass as Area and using it to calculate area of triangle. \n",
    "    def __init__(self,*args):\n",
    "        super(Area , self).__init__(*args) \n",
    "        \n",
    "    def area(self):                                 # Defining method inside class for obtaining area.\n",
    "        area_triangle = ((self.semipS)*(self.semipS - self.sideA)*(self.semipS - self.sideB)*(self.semipS - self.sideC))**0.5\n",
    "        print(\"Area of triangle is \", area_triangle)\n",
    "        \n",
    "A = Area(10,20,30,40)\n",
    "A.area()"
   ]
  },
  {
   "cell_type": "code",
   "execution_count": 1,
   "metadata": {},
   "outputs": [
    {
     "data": {
      "text/plain": [
       "['Rohit', 'Rahul', 'Robinhood', 'Rajat', 'Rudra']"
      ]
     },
     "execution_count": 1,
     "metadata": {},
     "output_type": "execute_result"
    }
   ],
   "source": [
    "# 1.2 \n",
    "\n",
    "def _long_words(items , n) :                      \n",
    "    long_l =[]\n",
    "    for i in items :\n",
    "        if len(i) > n :\n",
    "            long_l.append(i) \n",
    "    \n",
    "    return long_l \n",
    "\n",
    "test_list = ['Rohit' , 'Rahul' , 'Raj' , 'Ram' ,'Ravi' ,'Robinhood', 'Rajat','Rudra'] \n",
    "_long_words(test_list , 4)"
   ]
  },
  {
   "cell_type": "code",
   "execution_count": 4,
   "metadata": {},
   "outputs": [
    {
     "name": "stdout",
     "output_type": "stream",
     "text": [
      "Output of case 1 [5, 5, 3, 3, 4, 9, 5, 5]\n",
      "Output of case 2 [5, 5, 3, 3, 4, 9, 5, 5]\n"
     ]
    }
   ],
   "source": [
    "# 2.1 \n",
    "\n",
    "\n",
    "test_list = ['Rohit' , 'Rahul' , 'Raj' , 'Ram' ,'Ravi' ,'Robinhood', 'Rajat','Rudra']\n",
    "# case 1\n",
    "\n",
    "def map_int(items) :\n",
    "    int_list = []\n",
    "    for i in items :\n",
    "        if type(i) == str :\n",
    "            int_list.append(len(i))\n",
    "    \n",
    "    return int_list  \n",
    "\n",
    "print('Output of case 1',map_int(test_list))\n",
    "\n",
    "# case 2 \n",
    "\n",
    "l = map(lambda x:len(x) , test_list)\n",
    "print('Output of case 2',list(l))"
   ]
  },
  {
   "cell_type": "code",
   "execution_count": 6,
   "metadata": {},
   "outputs": [
    {
     "name": "stdout",
     "output_type": "stream",
     "text": [
      "Either Character is not provided or it is not a Vowel\n",
      "A is a Vowel\n"
     ]
    }
   ],
   "source": [
    "# 2.2 \n",
    "\n",
    "def vowel_test(char) :\n",
    "    vowel = ['a','e','i','o','u','A','E','I','O','U']\n",
    "    if len(char) ==1 and char in vowel :\n",
    "        print('{} is a Vowel'.format(char))\n",
    "    else :\n",
    "        print('Either Character is not provided or it is not a Vowel')\n",
    "\n",
    "vowel_test(\"z\") \n",
    "vowel_test('A')"
   ]
  }
 ],
 "metadata": {
  "kernelspec": {
   "display_name": "Python 3",
   "language": "python",
   "name": "python3"
  },
  "language_info": {
   "codemirror_mode": {
    "name": "ipython",
    "version": 3
   },
   "file_extension": ".py",
   "mimetype": "text/x-python",
   "name": "python",
   "nbconvert_exporter": "python",
   "pygments_lexer": "ipython3",
   "version": "3.8.3"
  }
 },
 "nbformat": 4,
 "nbformat_minor": 4
}
