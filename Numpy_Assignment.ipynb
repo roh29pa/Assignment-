{
 "cells": [
  {
   "cell_type": "code",
   "execution_count": 1,
   "metadata": {},
   "outputs": [],
   "source": [
    "import pandas as pd \n",
    "import numpy as np"
   ]
  },
  {
   "cell_type": "code",
   "execution_count": 2,
   "metadata": {},
   "outputs": [
    {
     "data": {
      "text/plain": [
       "array([[   1,    1,    1,    1,    1,    1],\n",
       "       [   1,    2,    4,    8,   16,   32],\n",
       "       [   1,    3,    9,   27,   81,  243],\n",
       "       [   1,    4,   16,   64,  256, 1024],\n",
       "       [   1,    5,   25,  125,  625, 3125],\n",
       "       [   1,    6,   36,  216, 1296, 7776]])"
      ]
     },
     "execution_count": 2,
     "metadata": {},
     "output_type": "execute_result"
    }
   ],
   "source": [
    "# 1\n",
    "\n",
    "np.vander(np.array([1,2,3,4,5,6]), increasing= True)\n",
    "\n"
   ]
  },
  {
   "cell_type": "code",
   "execution_count": 3,
   "metadata": {},
   "outputs": [
    {
     "name": "stdout",
     "output_type": "stream",
     "text": [
      "Y1 5.0\n",
      "Y2 4.666666666666667\n",
      "Y3 5.666666666666667\n",
      "Y4 6.666666666666667\n",
      "Y5 9.666666666666666\n",
      "Y6 28.666666666666668\n",
      "Y7 49.333333333333336\n",
      "Y8 72.66666666666667\n",
      "Y9 84.0\n",
      "Y10 93.33333333333333\n",
      "Y11 116.33333333333333\n"
     ]
    }
   ],
   "source": [
    "# 2\n",
    "\n",
    "def MA_k(item,window):\n",
    "    arr = np.array(item)\n",
    "    k = int(window)\n",
    "    for i in range(arr.size-k + 1):\n",
    "        print('Y'+str(i+1), arr[i:i+k].sum() / k)\n",
    "        \n",
    "\n",
    "\n",
    "MA_k([3, 5, 7, 2, 8, 10, 11, 65, 72, 81, 99, 100, 150],3)"
   ]
  },
  {
   "cell_type": "code",
   "execution_count": null,
   "metadata": {},
   "outputs": [],
   "source": []
  }
 ],
 "metadata": {
  "kernelspec": {
   "display_name": "Python 3",
   "language": "python",
   "name": "python3"
  },
  "language_info": {
   "codemirror_mode": {
    "name": "ipython",
    "version": 3
   },
   "file_extension": ".py",
   "mimetype": "text/x-python",
   "name": "python",
   "nbconvert_exporter": "python",
   "pygments_lexer": "ipython3",
   "version": "3.8.3"
  }
 },
 "nbformat": 4,
 "nbformat_minor": 4
}
