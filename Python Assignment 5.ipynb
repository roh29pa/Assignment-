{
 "cells": [
  {
   "cell_type": "code",
   "execution_count": 1,
   "metadata": {},
   "outputs": [
    {
     "name": "stdout",
     "output_type": "stream",
     "text": [
      "Enter numerator :asdf\n",
      "Error! encountered invalid literal for int() with base 10: 'asdf'\n",
      "Enter numerator :5\n",
      "Enter denominator :qwerty\n",
      "Error! encountered invalid literal for int() with base 10: 'qwerty'\n",
      "Enter denominator :0\n",
      "Error! this division has division by zero error\n",
      "------------------------------------------------------------\n"
     ]
    }
   ],
   "source": [
    "#1 \n",
    "\n",
    "\n",
    "while True :\n",
    "    inpNr = input('Enter numerator :')\n",
    "    try :\n",
    "        int_Nr = int(inpNr)\n",
    "        break \n",
    "        \n",
    "    except Exception as e :\n",
    "        \n",
    "        print('Error! encountered',e)\n",
    "        continue \n",
    "        \n",
    "    else :\n",
    "        print('Yes I got an integer as numerator')\n",
    "        \n",
    "        \n",
    "        \n",
    "while True :\n",
    "    inpDr = input('Enter denominator :')\n",
    "    try :\n",
    "        int_Dr = int(inpDr)\n",
    "        break \n",
    "        \n",
    "    except Exception as e :\n",
    "        \n",
    "        print('Error! encountered',e)\n",
    "        continue \n",
    "        \n",
    "    else :\n",
    "        print('Yes I got an integer as denominator')  \n",
    "        \n",
    "\n",
    "try :\n",
    "    result = int_Nr/int_Dr \n",
    "    \n",
    "except Exception as e:\n",
    "    print('Error! this division has',e,'error')\n",
    "    \n",
    "else :\n",
    "    \n",
    "    print('Division evaluated Successfully!! with value as',result)\n",
    "    \n",
    "finally:\n",
    "    print('-'*60)\n",
    "        \n"
   ]
  },
  {
   "cell_type": "code",
   "execution_count": 2,
   "metadata": {},
   "outputs": [
    {
     "name": "stdout",
     "output_type": "stream",
     "text": [
      "Americans play Baseball.\n",
      "Americans play Cricket.\n",
      "Americans watch Baseball.\n",
      "Americans watch Cricket.\n",
      "Indians play Baseball.\n",
      "Indians play Cricket.\n",
      "Indians watch Baseball.\n",
      "Indians watch Cricket.\n"
     ]
    }
   ],
   "source": [
    "#2 \n",
    "\n",
    "subjects=[\"Americans \",\"Indians \"]\n",
    "verbs=[\"play \",\"watch \"]\n",
    "objects=[\"Baseball\",\"Cricket\"]\n",
    "\n",
    "for i in subjects :\n",
    "    for j in verbs :\n",
    "        for k in objects :\n",
    "            sentence =i +j +k+'.'\n",
    "            print(sentence)\n",
    "\n"
   ]
  }
 ],
 "metadata": {
  "kernelspec": {
   "display_name": "Python 3",
   "language": "python",
   "name": "python3"
  },
  "language_info": {
   "codemirror_mode": {
    "name": "ipython",
    "version": 3
   },
   "file_extension": ".py",
   "mimetype": "text/x-python",
   "name": "python",
   "nbconvert_exporter": "python",
   "pygments_lexer": "ipython3",
   "version": "3.8.3"
  }
 },
 "nbformat": 4,
 "nbformat_minor": 4
}
