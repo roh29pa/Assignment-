{
 "cells": [
  {
   "cell_type": "code",
   "execution_count": 1,
   "metadata": {},
   "outputs": [
    {
     "name": "stdout",
     "output_type": "stream",
     "text": [
      "[2002, 2009, 2016, 2023, 2037, 2044, 2051, 2058, 2072, 2079, 2086, 2093, 2107, 2114, 2121, 2128, 2142, 2149, 2156, 2163, 2177, 2184, 2191, 2198, 2212, 2219, 2226, 2233, 2247, 2254, 2261, 2268, 2282, 2289, 2296, 2303, 2317, 2324, 2331, 2338, 2352, 2359, 2366, 2373, 2387, 2394, 2401, 2408, 2422, 2429, 2436, 2443, 2457, 2464, 2471, 2478, 2492, 2499, 2506, 2513, 2527, 2534, 2541, 2548, 2562, 2569, 2576, 2583, 2597, 2604, 2611, 2618, 2632, 2639, 2646, 2653, 2667, 2674, 2681, 2688, 2702, 2709, 2716, 2723, 2737, 2744, 2751, 2758, 2772, 2779, 2786, 2793, 2807, 2814, 2821, 2828, 2842, 2849, 2856, 2863, 2877, 2884, 2891, 2898, 2912, 2919, 2926, 2933, 2947, 2954, 2961, 2968, 2982, 2989, 2996, 3003, 3017, 3024, 3031, 3038, 3052, 3059, 3066, 3073, 3087, 3094, 3101, 3108, 3122, 3129, 3136, 3143, 3157, 3164, 3171, 3178, 3192, 3199]\n"
     ]
    }
   ],
   "source": [
    "#1 \n",
    "\n",
    "# range of all values between 2000 & 3200 .\n",
    "a = range(2000,3201,1)\n",
    "\n",
    "# viewing range values using list type .\n",
    "l = list(a)\n",
    "\n",
    "# creating empty list . \n",
    "m=[]\n",
    "\n",
    "\n",
    "for i in l :\n",
    "    if i%7 == 0 and i%5 != 0 :   \n",
    "        m.append(i)\n",
    "\n",
    "print(m)"
   ]
  },
  {
   "cell_type": "code",
   "execution_count": 2,
   "metadata": {},
   "outputs": [
    {
     "name": "stdout",
     "output_type": "stream",
     "text": [
      " Enter first name : Rohit \n",
      " Enter last name : Pande\n",
      "Pande Rohit \n",
      " tihoR ednaP\n"
     ]
    }
   ],
   "source": [
    "#2\n",
    "\n",
    "\n",
    "# input for first and last name .\n",
    "f_name = input(\" Enter first name : \")\n",
    "l_name = input(\" Enter last name : \")\n",
    "\n",
    "#case 1\n",
    "# reversing order i.e last name followed by first name .\n",
    "print(l_name,f_name)\n",
    "\n",
    "# case 2\n",
    "# reversing fisrt and last name with space in between .\n",
    "rev_f_name = f_name[::-1]\n",
    "rev_l_name = l_name[::-1]\n",
    "\n",
    "print(rev_f_name,rev_l_name)\n"
   ]
  },
  {
   "cell_type": "code",
   "execution_count": 3,
   "metadata": {},
   "outputs": [
    {
     "name": "stdout",
     "output_type": "stream",
     "text": [
      "volume of sphere with given radius r is  906.3359999999999\n",
      "volume of sphere with given radius r is  906.3359999999999\n"
     ]
    }
   ],
   "source": [
    "#3\n",
    "\n",
    "# case 1\n",
    "d = 12  #diameter for sphere .\n",
    "r =d/2  # radius and diameter convertion .\n",
    "pie = 3.147\n",
    "\n",
    "v = (4/3)*pie * (r**3)  #formula for volume of sphere .\n",
    "\n",
    "print(\"volume of sphere with given radius r is \",v) \n",
    "\n",
    "\n",
    "# case 2\n",
    "\n",
    "#defining a user_defined function for calculating volume of sphere. \n",
    "\n",
    "def vol_sphere(r) :\n",
    "    volume = (4/3)*pie * (r**3) \n",
    "    return volume \n",
    "\n",
    "print(\"volume of sphere with given radius r is \",vol_sphere(12/2))     "
   ]
  },
  {
   "cell_type": "code",
   "execution_count": null,
   "metadata": {},
   "outputs": [],
   "source": []
  }
 ],
 "metadata": {
  "kernelspec": {
   "display_name": "Python 3",
   "language": "python",
   "name": "python3"
  },
  "language_info": {
   "codemirror_mode": {
    "name": "ipython",
    "version": 3
   },
   "file_extension": ".py",
   "mimetype": "text/x-python",
   "name": "python",
   "nbconvert_exporter": "python",
   "pygments_lexer": "ipython3",
   "version": "3.8.3"
  }
 },
 "nbformat": 4,
 "nbformat_minor": 4
}
