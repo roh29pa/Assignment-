{
 "cells": [
  {
   "cell_type": "code",
   "execution_count": 1,
   "metadata": {},
   "outputs": [
    {
     "name": "stdout",
     "output_type": "stream",
     "text": [
      "* \n",
      "* * \n",
      "* * * \n",
      "* * * * \n",
      "* * * * * \n",
      "* * * * \n",
      "* * * \n",
      "* * \n",
      "* \n"
     ]
    }
   ],
   "source": [
    "#1\n",
    "\n",
    "# creating a list \n",
    "l = [1,2,3,4,5,4,3,2,1]\n",
    "\n",
    "#for creating pattren \n",
    "\n",
    "for i in l :\n",
    "    temp = \"* \"\n",
    "    ptrn = temp * i\n",
    "    print(ptrn)\n",
    "    \n",
    "    "
   ]
  },
  {
   "cell_type": "code",
   "execution_count": 2,
   "metadata": {},
   "outputs": [
    {
     "name": "stdout",
     "output_type": "stream",
     "text": [
      "Input:ineuron\n",
      "Output: norueni\n"
     ]
    }
   ],
   "source": [
    "#2 \n",
    "\n",
    "# case 1\n",
    "# accepting input from user using in_build input function.\n",
    "input_str = input(\"Input:\")\n",
    "print('Output:',input_str[::-1])\n"
   ]
  }
 ],
 "metadata": {
  "kernelspec": {
   "display_name": "Python 3",
   "language": "python",
   "name": "python3"
  },
  "language_info": {
   "codemirror_mode": {
    "name": "ipython",
    "version": 3
   },
   "file_extension": ".py",
   "mimetype": "text/x-python",
   "name": "python",
   "nbconvert_exporter": "python",
   "pygments_lexer": "ipython3",
   "version": "3.8.3"
  }
 },
 "nbformat": 4,
 "nbformat_minor": 4
}
